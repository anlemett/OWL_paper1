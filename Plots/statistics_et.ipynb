{
 "cells": [
  {
   "cell_type": "code",
   "execution_count": 1,
   "id": "dddc6789",
   "metadata": {},
   "outputs": [],
   "source": [
    "%matplotlib inline\n",
    "\n",
    "import os\n",
    "import numpy as np\n",
    "import pandas as pd\n",
    "import openpyxl\n",
    "from openpyxl.utils.dataframe import dataframe_to_rows\n",
    "import math\n",
    "from statistics import mean, median, stdev"
   ]
  },
  {
   "cell_type": "code",
   "execution_count": 2,
   "id": "044e5fb4",
   "metadata": {},
   "outputs": [],
   "source": [
    "DATA_DIR = os.path.join(\"..\", \"..\")\n",
    "DATA_DIR = os.path.join(DATA_DIR, \"Data\")\n",
    "DATA_DIR = os.path.join(DATA_DIR, \"EyeTracking\")\n",
    "stat_filename = \"test_ET_stat.xlsx\"\n",
    "#if os.path.isfile(stat_filename):\n",
    "#    os.remove(stat_filename)\n",
    "    \n",
    "#Saccade\n",
    "#Fixation\n",
    "#LeftBlinkClosingMidTime\n",
    "#LeftBlinkOpeningMidTime\n",
    "#LeftBlinkClosingAmplitude\n",
    "#LeftBlinkOpeningAmplitude\n",
    "#LeftBlinkClosingSpeed\n",
    "#LeftBlinkOpeningSpeed\n",
    "#RightBlinkClosingMidTime\n",
    "#RightBlinkOpeningMidTime\n",
    "#RightBlinkClosingAmplitude\n",
    "#RightBlinkOpeningAmplitude\n",
    "#RightBlinkClosingSpeed\n",
    "#RightBlinkOpeningSpeed\n",
    "#EyelidOpening\n",
    "#EyelidOpeningQ\n",
    "#LeftEyelidOpening\n",
    "#LeftEyelidOpeningQ\n",
    "#RightEyelidOpening\n",
    "#RightEyelidOpeningQ\n",
    "#LeftEyelidState\n",
    "#RightEyelidState\n",
    "#PupilDiameter\n",
    "#PupilDiameterQ\n",
    "#LeftPupilDiameter\n",
    "#LeftPupilDiameterQ\n",
    "#RightPupilDiameter\n",
    "#RightPupilDiameterQ\n",
    "#FilteredPupilDiameter\n",
    "#FilteredPupilDiameterQ\n",
    "#FilteredLeftPupilDiameter\n",
    "#FilteredLeftPupilDiameterQ\n",
    "#FilteredRightPupilDiameter\n",
    "#FilteredRightPupilDiameterQ\n",
    "\n",
    "'''df = pd.DataFrame(columns=['atco_id', 'scenario',\n",
    "                           'av_pup_diam', 'median_pup_diam', 'sd_pup_diam', 'min_pup_diam', 'max_pup_diam',\n",
    "                           'av_blink', 'median_blink', 'sd_blink', 'min_blink', 'max_blink'])'''\n",
    " \n",
    "# create the excel file and save the headers\n",
    "with pd.ExcelWriter(path = stat_filename, engine = 'openpyxl') as writer:\n",
    "    #df = pd.DataFrame(columns=['atco_id', 'scenario',\n",
    "    #                       'av_saccade', 'median_saccade', 'sd_saccade', 'min_saccade', 'max_saccade'])\n",
    "    #df.to_excel(writer, index = False, sheet_name = 'saccade')\n",
    "    df = pd.DataFrame(columns=['atco_id', 'scenario',\n",
    "                           'av_pup_diam', 'median_pup_diam', 'sd_pup_diam', 'min_pup_diam', 'max_pup_diam'])\n",
    "    df.to_excel(writer, index = False, sheet_name = 'pup.diam')"
   ]
  },
  {
   "cell_type": "code",
   "execution_count": 3,
   "id": "63ddba4a",
   "metadata": {},
   "outputs": [],
   "source": [
    "def metric_stat(metric, df_low, df_medium, df_high):\n",
    "    low_lst = list(df_low[metric].dropna()) if not df_low.empty else []\n",
    "    low_av = mean(low_lst) if low_lst else 0\n",
    "    low_median = median(low_lst) if low_lst else 0\n",
    "    low_sd = stdev(low_lst) if low_lst else 0\n",
    "    low_min = min(low_lst) if low_lst else 0\n",
    "    low_max = max(low_lst) if low_lst else 0\n",
    "    \n",
    "    high_lst = list(df_high[metric].dropna()) if not df_high.empty else []\n",
    "    high_av = mean(high_lst) if high_lst else 0\n",
    "    high_median = median(high_lst) if high_lst else 0\n",
    "    high_sd = stdev(high_lst) if high_lst else 0\n",
    "    high_min = min(high_lst) if high_lst else 0\n",
    "    high_max = max(high_lst) if high_lst else 0\n",
    "    \n",
    "    medium_lst = list(df_medium[metric].dropna()) if not df_medium.empty else []\n",
    "    medium_av = mean(medium_lst) if medium_lst else 0\n",
    "    medium_median = median(medium_lst) if medium_lst else 0\n",
    "    medium_sd = stdev(medium_lst) if medium_lst else 0\n",
    "    medium_min = min(medium_lst) if medium_lst else 0\n",
    "    medium_max = max(medium_lst) if medium_lst else 0\n",
    "    \n",
    "    return (low_av, low_median, low_sd, low_min, low_max,\n",
    "            medium_av, medium_median, medium_sd, medium_min, medium_max,\n",
    "            high_av, high_median, high_sd, high_min, high_max)"
   ]
  },
  {
   "cell_type": "code",
   "execution_count": 4,
   "id": "9f5967f8",
   "metadata": {},
   "outputs": [],
   "source": [
    "def pup_diam_stat(df_low, df_medium, df_high):\n",
    "    return metric_stat('PupilDiameter', df_low, df_medium, df_high)"
   ]
  },
  {
   "cell_type": "code",
   "execution_count": 5,
   "id": "036bd13e",
   "metadata": {},
   "outputs": [],
   "source": [
    "def blink_stat(df_low, df_medium, df_high):\n",
    "    return metric_stat('Blink', df_low, df_medium, df_high)"
   ]
  },
  {
   "cell_type": "code",
   "execution_count": 6,
   "id": "663148fa",
   "metadata": {},
   "outputs": [],
   "source": [
    "def saccade_stat(df_low, df_medium, df_high):\n",
    "    return metric_stat('Saccade', df_low, df_medium, df_high)"
   ]
  },
  {
   "cell_type": "code",
   "execution_count": 7,
   "id": "5e58bb55",
   "metadata": {},
   "outputs": [],
   "source": [
    "def calculate_stat(participant_id, df_low, df_medium, df_high):\n",
    "    (low_av, low_median, low_sd, low_min, low_max,\n",
    "     medium_av, medium_median, medium_sd, medium_min, medium_max,\n",
    "     high_av, high_median, high_sd, high_min, high_max) = pup_diam_stat(df_low,\n",
    "                                                                        df_medium,\n",
    "                                                                        df_high)\n",
    "    '''(low_av, low_median, low_sd, low_min, low_max,\n",
    "     medium_av_blink, medium_median_blink, medium_sd_blink, medium_min_blink, medium_max,\n",
    "     high_av_blink, high_median_blink, high_sd_blink, high_min_blink, high_max_blink) = blink_stat(df_low,\n",
    "                                                                                                   df_medium,\n",
    "                                                                                                   df_high)'''\n",
    "    '''(low_av, low_median, low_sd, low_min, low_max,\n",
    "     medium_av, medium_median, medium_sd, medium_min, medium_max,\n",
    "     high_av, high_median, high_sd, high_min, high_max) = saccade_stat(df_low,\n",
    "                                                                       df_medium,\n",
    "                                                                       df_high)'''\n",
    "    \n",
    "    '''data = {'atco_id': [participant_id, participant_id, participant_id],\n",
    "            'scenario': ['low', 'medium', 'high'],\n",
    "            'av_pup_diam': [low_av_diam, medium_av_diam, high_av_diam],\n",
    "            'median_pup_diam': [low_median_diam, medium_median_diam, high_median_diam],\n",
    "            'sd_pup_diam': [low_sd_diam, medium_sd_diam, high_sd_diam],\n",
    "            'min_pup_diam': [low_min_diam, medium_min_diam, high_min_diam],\n",
    "            'max_pup_diam': [low_max_diam, medium_max_diam, high_max_diam],\n",
    "            'av_blink': [low_av_blink, medium_av_blink, high_av_blink],\n",
    "            'median_blink': [low_median_blink, medium_median_blink, high_median_blink],\n",
    "            'sd_blink': [low_sd_blink, medium_sd_blink, high_sd_blink],\n",
    "            'min_blink': [low_min_blink, medium_min_blink, high_min_blink],\n",
    "            'max_blink': [low_max_blink, medium_max_blink, high_max_blink]\n",
    "           }'''\n",
    "    \n",
    "    '''data = {'atco_id': [participant_id, participant_id, participant_id],\n",
    "            'scenario': ['low', 'medium', 'high'],\n",
    "            'av_saccade': [low_av, medium_av, high_av],\n",
    "            'median_saccade': [low_median, medium_median, high_median],\n",
    "            'sd_saccade': [low_sd, medium_sd, high_sd],\n",
    "            'min_saccade': [low_min, medium_min, high_min],\n",
    "            'max_saccade': [low_max, medium_max, high_max]\n",
    "           }'''\n",
    "    \n",
    "    data = {'atco_id': [participant_id, participant_id, participant_id],\n",
    "            'scenario': ['low', 'medium', 'high'],\n",
    "            'av_pup_diam': [low_av, medium_av, high_av],\n",
    "            'median_pup_diam': [low_median, medium_median, high_median],\n",
    "            'sd_pup_diam': [low_sd, medium_sd, high_sd],\n",
    "            'min_pup_diam': [low_min, medium_min, high_min],\n",
    "            'max_pup_diam': [low_max, medium_max, high_max]\n",
    "           }\n",
    "        \n",
    "    new_rows_df = pd.DataFrame(data)      \n",
    "    \n",
    "    #sheetname = 'saccade'\n",
    "    sheetname = 'pup.diam'\n",
    "    workbook = openpyxl.load_workbook(stat_filename)  # load workbook if already exists\n",
    "    sheet = workbook[sheetname]  # declare the active sheet \n",
    "\n",
    "    # append the dataframe results to the current excel file\n",
    "    for row in dataframe_to_rows(new_rows_df, header = False, index = False):\n",
    "        sheet.append(row)\n",
    "    workbook.save(stat_filename)  # save workbook\n",
    "    workbook.close()  # close workbook"
   ]
  },
  {
   "cell_type": "code",
   "execution_count": 8,
   "id": "4d57abd4",
   "metadata": {},
   "outputs": [],
   "source": [
    "filename = os.path.join(DATA_DIR, \"D1r1_MO.log\")\n",
    "df_low = pd.read_csv(filename, sep='\\t', low_memory=False)\n",
    "\n",
    "filename = os.path.join(DATA_DIR, \"D1r3_MO.log\")\n",
    "df_high = pd.read_csv(filename, sep='\\t', low_memory=False)\n",
    "\n",
    "filename = os.path.join(DATA_DIR, \"D1r2_MO.log\")\n",
    "df_medium = pd.read_csv(filename, sep='\\t', low_memory=False)"
   ]
  },
  {
   "cell_type": "code",
   "execution_count": 9,
   "id": "febbba8c",
   "metadata": {},
   "outputs": [
    {
     "ename": "NameError",
     "evalue": "name 'low_av' is not defined",
     "output_type": "error",
     "traceback": [
      "\u001b[1;31m---------------------------------------------------------------------------\u001b[0m",
      "\u001b[1;31mNameError\u001b[0m                                 Traceback (most recent call last)",
      "Input \u001b[1;32mIn [9]\u001b[0m, in \u001b[0;36m<cell line: 1>\u001b[1;34m()\u001b[0m\n\u001b[1;32m----> 1\u001b[0m \u001b[43mcalculate_stat\u001b[49m\u001b[43m(\u001b[49m\u001b[38;5;124;43m'\u001b[39;49m\u001b[38;5;124;43mMO\u001b[39;49m\u001b[38;5;124;43m'\u001b[39;49m\u001b[43m,\u001b[49m\u001b[43m \u001b[49m\u001b[43mdf_low\u001b[49m\u001b[43m,\u001b[49m\u001b[43m \u001b[49m\u001b[43mdf_medium\u001b[49m\u001b[43m,\u001b[49m\u001b[43m \u001b[49m\u001b[43mdf_high\u001b[49m\u001b[43m)\u001b[49m\n",
      "Input \u001b[1;32mIn [7]\u001b[0m, in \u001b[0;36mcalculate_stat\u001b[1;34m(participant_id, df_low, df_medium, df_high)\u001b[0m\n\u001b[0;32m     18\u001b[0m \u001b[38;5;124;03m'''data = {'atco_id': [participant_id, participant_id, participant_id],\u001b[39;00m\n\u001b[0;32m     19\u001b[0m \u001b[38;5;124;03m        'scenario': ['low', 'medium', 'high'],\u001b[39;00m\n\u001b[0;32m     20\u001b[0m \u001b[38;5;124;03m        'av_pup_diam': [low_av_diam, medium_av_diam, high_av_diam],\u001b[39;00m\n\u001b[1;32m   (...)\u001b[0m\n\u001b[0;32m     29\u001b[0m \u001b[38;5;124;03m        'max_blink': [low_max_blink, medium_max_blink, high_max_blink]\u001b[39;00m\n\u001b[0;32m     30\u001b[0m \u001b[38;5;124;03m       }'''\u001b[39;00m\n\u001b[0;32m     32\u001b[0m \u001b[38;5;124;03m'''data = {'atco_id': [participant_id, participant_id, participant_id],\u001b[39;00m\n\u001b[0;32m     33\u001b[0m \u001b[38;5;124;03m        'scenario': ['low', 'medium', 'high'],\u001b[39;00m\n\u001b[0;32m     34\u001b[0m \u001b[38;5;124;03m        'av_saccade': [low_av, medium_av, high_av],\u001b[39;00m\n\u001b[1;32m   (...)\u001b[0m\n\u001b[0;32m     38\u001b[0m \u001b[38;5;124;03m        'max_saccade': [low_max, medium_max, high_max]\u001b[39;00m\n\u001b[0;32m     39\u001b[0m \u001b[38;5;124;03m       }'''\u001b[39;00m\n\u001b[0;32m     41\u001b[0m data \u001b[38;5;241m=\u001b[39m {\u001b[38;5;124m'\u001b[39m\u001b[38;5;124matco_id\u001b[39m\u001b[38;5;124m'\u001b[39m: [participant_id, participant_id, participant_id],\n\u001b[0;32m     42\u001b[0m         \u001b[38;5;124m'\u001b[39m\u001b[38;5;124mscenario\u001b[39m\u001b[38;5;124m'\u001b[39m: [\u001b[38;5;124m'\u001b[39m\u001b[38;5;124mlow\u001b[39m\u001b[38;5;124m'\u001b[39m, \u001b[38;5;124m'\u001b[39m\u001b[38;5;124mmedium\u001b[39m\u001b[38;5;124m'\u001b[39m, \u001b[38;5;124m'\u001b[39m\u001b[38;5;124mhigh\u001b[39m\u001b[38;5;124m'\u001b[39m],\n\u001b[1;32m---> 43\u001b[0m         \u001b[38;5;124m'\u001b[39m\u001b[38;5;124mav_pup_diam\u001b[39m\u001b[38;5;124m'\u001b[39m: [\u001b[43mlow_av\u001b[49m, medium_av, high_av],\n\u001b[0;32m     44\u001b[0m         \u001b[38;5;124m'\u001b[39m\u001b[38;5;124mmedian_pup_diam\u001b[39m\u001b[38;5;124m'\u001b[39m: [low_median, medium_median, high_median],\n\u001b[0;32m     45\u001b[0m         \u001b[38;5;124m'\u001b[39m\u001b[38;5;124msd_pup_diam\u001b[39m\u001b[38;5;124m'\u001b[39m: [low_sd, medium_sd, high_sd],\n\u001b[0;32m     46\u001b[0m         \u001b[38;5;124m'\u001b[39m\u001b[38;5;124mmin_pup_diam\u001b[39m\u001b[38;5;124m'\u001b[39m: [low_min, medium_min, high_min],\n\u001b[0;32m     47\u001b[0m         \u001b[38;5;124m'\u001b[39m\u001b[38;5;124mmax_pup_diam\u001b[39m\u001b[38;5;124m'\u001b[39m: [low_max, medium_max, high_max]\n\u001b[0;32m     48\u001b[0m        }\n\u001b[0;32m     50\u001b[0m new_rows_df \u001b[38;5;241m=\u001b[39m pd\u001b[38;5;241m.\u001b[39mDataFrame(data)      \n\u001b[0;32m     52\u001b[0m \u001b[38;5;66;03m#sheetname = 'saccade'\u001b[39;00m\n",
      "\u001b[1;31mNameError\u001b[0m: name 'low_av' is not defined"
     ]
    }
   ],
   "source": [
    "calculate_stat('MO', df_low, df_medium, df_high)"
   ]
  },
  {
   "cell_type": "code",
   "execution_count": null,
   "id": "d66d0d9c",
   "metadata": {},
   "outputs": [],
   "source": [
    "filename = os.path.join(DATA_DIR, \"D1r6_EI.log\")\n",
    "df_low = pd.read_csv(filename, sep='\\t', low_memory=False)\n",
    "\n",
    "filename = os.path.join(DATA_DIR, \"D1r4_EI.log\")\n",
    "df_high = pd.read_csv(filename, sep='\\t', low_memory=False)\n",
    "\n",
    "filename = os.path.join(DATA_DIR, \"D1r5_EI.log\")\n",
    "df_medium = pd.read_csv(filename, sep='\\t', low_memory=False)"
   ]
  },
  {
   "cell_type": "code",
   "execution_count": null,
   "id": "21912b2d",
   "metadata": {},
   "outputs": [],
   "source": [
    "calculate_stat('EI', df_low, df_medium, df_high)"
   ]
  },
  {
   "cell_type": "code",
   "execution_count": null,
   "id": "57889233",
   "metadata": {},
   "outputs": [],
   "source": [
    "filename = os.path.join(DATA_DIR, \"D2r3_KV.log\")\n",
    "df_low = pd.read_csv(filename, sep='\\t', low_memory=False)\n",
    "\n",
    "filename = os.path.join(DATA_DIR, \"D2r1_KV.log\")\n",
    "df_high = pd.read_csv(filename, sep='\\t', low_memory=False)\n",
    "\n",
    "df_medium = pd.DataFrame()"
   ]
  },
  {
   "cell_type": "code",
   "execution_count": null,
   "id": "4beba21a",
   "metadata": {},
   "outputs": [],
   "source": [
    "calculate_stat('KV', df_low, df_medium, df_high)"
   ]
  },
  {
   "cell_type": "code",
   "execution_count": null,
   "id": "ad856c98",
   "metadata": {},
   "outputs": [],
   "source": [
    "filename = os.path.join(DATA_DIR, \"D2r4_UO.log\")\n",
    "df_low = pd.read_csv(filename, sep='\\t', low_memory=False)\n",
    "\n",
    "filename = os.path.join(DATA_DIR, \"D2r6_UO.log\")\n",
    "df_high = pd.read_csv(filename, sep='\\t', low_memory=False)\n",
    "\n",
    "filename = os.path.join(DATA_DIR, \"D2r5_UO.log\")\n",
    "df_medium = pd.read_csv(filename, sep='\\t', low_memory=False)"
   ]
  },
  {
   "cell_type": "code",
   "execution_count": null,
   "id": "aeecfddc",
   "metadata": {},
   "outputs": [],
   "source": [
    "calculate_stat('UO', df_low, df_medium, df_high)"
   ]
  }
 ],
 "metadata": {
  "kernelspec": {
   "display_name": "Python 3 (ipykernel)",
   "language": "python",
   "name": "python3"
  },
  "language_info": {
   "codemirror_mode": {
    "name": "ipython",
    "version": 3
   },
   "file_extension": ".py",
   "mimetype": "text/x-python",
   "name": "python",
   "nbconvert_exporter": "python",
   "pygments_lexer": "ipython3",
   "version": "3.9.12"
  }
 },
 "nbformat": 4,
 "nbformat_minor": 5
}
