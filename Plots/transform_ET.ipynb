{
 "cells": [
  {
   "cell_type": "code",
   "execution_count": null,
   "id": "1624d782",
   "metadata": {},
   "outputs": [],
   "source": [
    "# Transform ET data (calculate average per second metric values) to compare with EEG values (by plotting)"
   ]
  },
  {
   "cell_type": "code",
   "execution_count": 1,
   "id": "144b1e24",
   "metadata": {},
   "outputs": [],
   "source": [
    "%matplotlib inline\n",
    "\n",
    "import os\n",
    "import numpy as np\n",
    "import pandas as pd\n",
    "import math\n",
    "from statistics import mean"
   ]
  },
  {
   "cell_type": "code",
   "execution_count": 2,
   "id": "d11da601",
   "metadata": {},
   "outputs": [],
   "source": [
    "DATA_DIR = os.path.join(\"..\", \"..\")\n",
    "DATA_DIR = os.path.join(DATA_DIR, \"Data\")\n",
    "DATA_DIR = os.path.join(DATA_DIR, \"EyeTracking\")"
   ]
  },
  {
   "cell_type": "code",
   "execution_count": 3,
   "id": "775e64fc",
   "metadata": {},
   "outputs": [
    {
     "name": "stderr",
     "output_type": "stream",
     "text": [
      "C:\\Users\\anale19\\AppData\\Local\\Temp\\ipykernel_17440\\180831531.py:2: DtypeWarning: Columns (126,133,140,161,183,190,211,218,253,260,281,288,309,316,337,344,365,372,393,400,421,428,449,456,477,484) have mixed types. Specify dtype option on import or set low_memory=False.\n",
      "  df_low = pd.read_csv(filename, sep='\\t')\n",
      "C:\\Users\\anale19\\AppData\\Local\\Temp\\ipykernel_17440\\180831531.py:5: DtypeWarning: Columns (126,133,140,161,183,190,211,218,253,260,281,288,309,316,337,344,365,372,393,400,421,428,449,456,477,484) have mixed types. Specify dtype option on import or set low_memory=False.\n",
      "  df_high = pd.read_csv(filename, sep='\\t')\n",
      "C:\\Users\\anale19\\AppData\\Local\\Temp\\ipykernel_17440\\180831531.py:8: DtypeWarning: Columns (126,133,140,161,183,190,211,218,253,260,281,288,309,316,337,344,365,372,393,400,421,428,449,456,477,484) have mixed types. Specify dtype option on import or set low_memory=False.\n",
      "  df_medium = pd.read_csv(filename, sep='\\t')\n"
     ]
    }
   ],
   "source": [
    "filename = os.path.join(DATA_DIR, \"D2r4_UO.log\")\n",
    "df_low = pd.read_csv(filename, sep='\\t')\n",
    "\n",
    "filename = os.path.join(DATA_DIR, \"D2r6_UO.log\")\n",
    "df_high = pd.read_csv(filename, sep='\\t')\n",
    "\n",
    "filename = os.path.join(DATA_DIR, \"D2r5_UO.log\")\n",
    "df_medium = pd.read_csv(filename, sep='\\t')"
   ]
  },
  {
   "cell_type": "code",
   "execution_count": null,
   "id": "477de84d",
   "metadata": {},
   "outputs": [],
   "source": [
    "def getUnixTimestamp(file_time):\n",
    "    winSecs       = int(file_time / 10000000); # divide by 10 000 000 to get seconds\n",
    "    unixTimestamp = (winSecs - 11644473600); # 1.1.1600 -> 1.1.1970 difference in seconds\n",
    "    return unixTimestamp"
   ]
  },
  {
   "cell_type": "code",
   "execution_count": 4,
   "id": "c39faabb",
   "metadata": {},
   "outputs": [],
   "source": [
    "def getSecond(frame_number):\n",
    "\n",
    "    return math.floor(frame_number/250) + 1\n",
    "\n",
    "def getFrameNumberFromZero(frame_number, first_frame_number):\n",
    "\n",
    "    return int(frame_number - first_frame_number)"
   ]
  },
  {
   "cell_type": "code",
   "execution_count": 5,
   "id": "405a596d",
   "metadata": {},
   "outputs": [],
   "source": [
    "first_value = df_low.iloc[0, df_low.columns.get_loc('FrameNumber')]\n",
    "df_low['FrameNumberFromZero'] = df_low.apply(lambda row: getFrameNumberFromZero(row['FrameNumber'],first_value), axis=1)\n",
    "df_low['second'] = df_low.apply(lambda row: getSecond(row['FrameNumberFromZero']), axis=1)\n",
    "\n",
    "first_value = df_high.iloc[0, df_high.columns.get_loc('FrameNumber')]\n",
    "df_high['FrameNumberFromZero'] = df_high.apply(lambda row: getFrameNumberFromZero(row['FrameNumber'],first_value), axis=1)\n",
    "df_high['second'] = df_high.apply(lambda row: getSecond(row['FrameNumberFromZero']), axis=1)\n",
    "\n",
    "first_value = df_medium.iloc[0, df_medium.columns.get_loc('FrameNumber')]\n",
    "df_medium['FrameNumberFromZero'] = df_medium.apply(lambda row: getFrameNumberFromZero(row['FrameNumber'],first_value), axis=1)\n",
    "df_medium['second'] = df_medium.apply(lambda row: getSecond(row['FrameNumberFromZero']), axis=1)"
   ]
  },
  {
   "cell_type": "code",
   "execution_count": 6,
   "id": "33c68b64",
   "metadata": {},
   "outputs": [],
   "source": [
    "df = df_low[['second', 'PupilDiameter']]\n",
    "\n",
    "last_second = list(df['second'])[-1]\n",
    "\n",
    "new_df = pd.DataFrame(columns=['second', 'av_pup_diameter'])\n",
    "\n",
    "for s in range (1, last_second + 1):\n",
    "    \n",
    "    s_df = df[df['second']==s]\n",
    "        \n",
    "    s_pup_diam = list(s_df['PupilDiameter'].dropna())\n",
    "    av_diam = mean(s_pup_diam) if s_pup_diam else 0\n",
    "    \n",
    "    new_df = pd.concat([new_df, pd.DataFrame({'second': [s],\n",
    "                            'av_pup_diameter': [av_diam],\n",
    "                            })])\n",
    "    \n",
    "new_df.reset_index(drop=True, inplace=True)\n",
    "\n",
    "output_filename = \"UO_et_low_sec.csv\"\n",
    "new_df.to_csv(os.path.join(DATA_DIR, output_filename), sep=' ', encoding='utf-8', float_format='%.6f', index = False, header = True)"
   ]
  },
  {
   "cell_type": "code",
   "execution_count": 7,
   "id": "a5bbfd16",
   "metadata": {},
   "outputs": [],
   "source": [
    "df = df_high[['second', 'PupilDiameter']]\n",
    "\n",
    "last_second = list(df['second'])[-1]\n",
    "\n",
    "new_df = pd.DataFrame(columns=['second', 'av_pup_diameter'])\n",
    "\n",
    "for s in range (1, last_second + 1):\n",
    "    \n",
    "    s_df = df[df['second']==s]\n",
    "        \n",
    "    s_pup_diam = list(s_df['PupilDiameter'].dropna())\n",
    "    av_diam = mean(s_pup_diam) if s_pup_diam else 0\n",
    "    \n",
    "    new_df = pd.concat([new_df, pd.DataFrame({'second': [s],\n",
    "                            'av_pup_diameter': [av_diam],\n",
    "                            })])\n",
    "    \n",
    "new_df.reset_index(drop=True, inplace=True)\n",
    "\n",
    "output_filename = \"UO_et_high_sec.csv\"\n",
    "new_df.to_csv(os.path.join(DATA_DIR, output_filename), sep=' ', encoding='utf-8', float_format='%.6f', index = False, header = True)"
   ]
  },
  {
   "cell_type": "code",
   "execution_count": 8,
   "id": "4f37594b",
   "metadata": {},
   "outputs": [],
   "source": [
    "df = df_medium[['second', 'PupilDiameter']]\n",
    "\n",
    "last_second = list(df['second'])[-1]\n",
    "\n",
    "new_df = pd.DataFrame(columns=['second', 'av_pup_diameter'])\n",
    "\n",
    "for s in range (1, last_second + 1):\n",
    "    \n",
    "    s_df = df[df['second']==s]\n",
    "        \n",
    "    s_pup_diam = list(s_df['PupilDiameter'].dropna())\n",
    "    av_diam = mean(s_pup_diam) if s_pup_diam else 0\n",
    "    \n",
    "    new_df = pd.concat([new_df, pd.DataFrame({'second': [s],\n",
    "                            'av_pup_diameter': [av_diam],\n",
    "                            })])\n",
    "    \n",
    "new_df.reset_index(drop=True, inplace=True)\n",
    "\n",
    "output_filename = \"UO_et_medium_sec.csv\"\n",
    "new_df.to_csv(os.path.join(DATA_DIR, output_filename), sep=' ', encoding='utf-8', float_format='%.6f', index = False, header = True)"
   ]
  }
 ],
 "metadata": {
  "kernelspec": {
   "display_name": "Python 3 (ipykernel)",
   "language": "python",
   "name": "python3"
  },
  "language_info": {
   "codemirror_mode": {
    "name": "ipython",
    "version": 3
   },
   "file_extension": ".py",
   "mimetype": "text/x-python",
   "name": "python",
   "nbconvert_exporter": "python",
   "pygments_lexer": "ipython3",
   "version": "3.9.12"
  }
 },
 "nbformat": 4,
 "nbformat_minor": 5
}
